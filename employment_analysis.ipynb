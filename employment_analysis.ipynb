{
 "cells": [
  {
   "cell_type": "markdown",
   "metadata": {},
   "source": [
    "# Ответы на все вопросы"
   ]
  },
  {
   "cell_type": "code",
   "execution_count": 365,
   "metadata": {},
   "outputs": [],
   "source": [
    "import pandas as pd\n",
    "import matplotlib.pyplot as plt\n",
    "import re, pyreadstat\n",
    "from scipy import stats\n",
    "from sklearn.linear_model import LinearRegression\n",
    "import numpy as np"
   ]
  },
  {
   "cell_type": "markdown",
   "metadata": {},
   "source": [
    "## Подготовка выборки"
   ]
  },
  {
   "cell_type": "code",
   "execution_count": 366,
   "metadata": {},
   "outputs": [],
   "source": [
    "data, meta = pyreadstat.read_sav('data.sav', apply_value_formats = True)"
   ]
  },
  {
   "cell_type": "code",
   "execution_count": 367,
   "metadata": {},
   "outputs": [],
   "source": [
    "color_print = lambda x, color = 'green': print(\"\\u001B[32m\"+x+\"\\u001B[0m\") if color == 'green' else print(\"\\033[91m\"+x+\"\\u001B[0m\")"
   ]
  },
  {
   "cell_type": "code",
   "execution_count": 368,
   "metadata": {
    "scrolled": true
   },
   "outputs": [],
   "source": [
    "map_columns = meta.column_names_to_labels\n",
    "# xi2: Из какой республики СССР?\n",
    "# xj10: Сколько денег в течение последних 30 дней Вы получили по основному месту работы после вычета налогов \n",
    "# и отчислений? Если все или часть денег Вы получили в иностранной валюте, переведите все в рубли и назовите \n",
    "# общую сумму\n",
    "# 'xj14': 'В настоящее время Ваше предприятие осталось должно Вам какие-то деньги, которые по разным причинам не выплатило вовремя?''xj14': 'В настоящее время Ваше предприятие осталось должно Вам какие-то деньги, которые по разным причинам не выплатило вовремя?'\n",
    "# 'xj18.2': 'В течение последних 12 месяцев Вам уменьшали зарплату или сокращали часы работы не по Вашему желанию?'\n",
    "# 'xj21.3' 'Является ли производство, на котором Вы работаете, вредным или опасным, т.е. дающим Вам право на досрочное назначение трудовой пенсии, на дополнительные выплаты или льготы?','Является ли производство, на котором Вы работаете, вредным или опасным, т.е. дающим Вам право на досрочное назначение трудовой пенсии, на дополнительные выплаты или льготы?',"
   ]
  },
  {
   "cell_type": "code",
   "execution_count": 369,
   "metadata": {},
   "outputs": [
    {
     "data": {
      "text/html": [
       "<div>\n",
       "<style scoped>\n",
       "    .dataframe tbody tr th:only-of-type {\n",
       "        vertical-align: middle;\n",
       "    }\n",
       "\n",
       "    .dataframe tbody tr th {\n",
       "        vertical-align: top;\n",
       "    }\n",
       "\n",
       "    .dataframe thead th {\n",
       "        text-align: right;\n",
       "    }\n",
       "</style>\n",
       "<table border=\"1\" class=\"dataframe\">\n",
       "  <thead>\n",
       "    <tr style=\"text-align: right;\">\n",
       "      <th></th>\n",
       "      <th>is_migrant</th>\n",
       "      <th>region</th>\n",
       "      <th>self_emp</th>\n",
       "      <th>age</th>\n",
       "      <th>age_group</th>\n",
       "      <th>leg_emp</th>\n",
       "      <th>wage</th>\n",
       "      <th>income_interval</th>\n",
       "      <th>diploma_1</th>\n",
       "      <th>diploma_2</th>\n",
       "      <th>diploma_3</th>\n",
       "      <th>diploma_4</th>\n",
       "      <th>uni_1</th>\n",
       "      <th>uni_2</th>\n",
       "      <th>uni_3</th>\n",
       "      <th>uni_4</th>\n",
       "    </tr>\n",
       "  </thead>\n",
       "  <tbody>\n",
       "    <tr>\n",
       "      <th>0</th>\n",
       "      <td>РОССИЯ</td>\n",
       "      <td>Ленинградская область, Волосовский район</td>\n",
       "      <td>Нет</td>\n",
       "      <td>64</td>\n",
       "      <td>60+</td>\n",
       "      <td>Оформлены официально</td>\n",
       "      <td>20000.0</td>\n",
       "      <td>10-20</td>\n",
       "      <td>NaN</td>\n",
       "      <td>NaN</td>\n",
       "      <td>NaN</td>\n",
       "      <td>NaN</td>\n",
       "      <td>NaN</td>\n",
       "      <td>NaN</td>\n",
       "      <td>NaN</td>\n",
       "      <td>NaN</td>\n",
       "    </tr>\n",
       "    <tr>\n",
       "      <th>1</th>\n",
       "      <td>РОССИЯ</td>\n",
       "      <td>Ленинградская область, Волосовский район</td>\n",
       "      <td>NaN</td>\n",
       "      <td>75</td>\n",
       "      <td>60+</td>\n",
       "      <td>NaN</td>\n",
       "      <td>NaN</td>\n",
       "      <td>NaN</td>\n",
       "      <td>NaN</td>\n",
       "      <td>NaN</td>\n",
       "      <td>NaN</td>\n",
       "      <td>NaN</td>\n",
       "      <td>NaN</td>\n",
       "      <td>NaN</td>\n",
       "      <td>NaN</td>\n",
       "      <td>NaN</td>\n",
       "    </tr>\n",
       "    <tr>\n",
       "      <th>2</th>\n",
       "      <td>РОССИЯ</td>\n",
       "      <td>Ленинградская область, Волосовский район</td>\n",
       "      <td>NaN</td>\n",
       "      <td>73</td>\n",
       "      <td>60+</td>\n",
       "      <td>NaN</td>\n",
       "      <td>NaN</td>\n",
       "      <td>NaN</td>\n",
       "      <td>NaN</td>\n",
       "      <td>NaN</td>\n",
       "      <td>NaN</td>\n",
       "      <td>NaN</td>\n",
       "      <td>NaN</td>\n",
       "      <td>NaN</td>\n",
       "      <td>NaN</td>\n",
       "      <td>NaN</td>\n",
       "    </tr>\n",
       "    <tr>\n",
       "      <th>3</th>\n",
       "      <td>РОССИЯ</td>\n",
       "      <td>Ленинградская область, Волосовский район</td>\n",
       "      <td>NaN</td>\n",
       "      <td>65</td>\n",
       "      <td>60+</td>\n",
       "      <td>NaN</td>\n",
       "      <td>NaN</td>\n",
       "      <td>NaN</td>\n",
       "      <td>NaN</td>\n",
       "      <td>NaN</td>\n",
       "      <td>NaN</td>\n",
       "      <td>NaN</td>\n",
       "      <td>NaN</td>\n",
       "      <td>NaN</td>\n",
       "      <td>NaN</td>\n",
       "      <td>NaN</td>\n",
       "    </tr>\n",
       "    <tr>\n",
       "      <th>4</th>\n",
       "      <td>РОССИЯ</td>\n",
       "      <td>Ленинградская область, Волосовский район</td>\n",
       "      <td>Нет</td>\n",
       "      <td>51</td>\n",
       "      <td>с 45 до 60</td>\n",
       "      <td>Оформлены официально</td>\n",
       "      <td>18000.0</td>\n",
       "      <td>10-20</td>\n",
       "      <td>NaN</td>\n",
       "      <td>NaN</td>\n",
       "      <td>NaN</td>\n",
       "      <td>NaN</td>\n",
       "      <td>NaN</td>\n",
       "      <td>NaN</td>\n",
       "      <td>NaN</td>\n",
       "      <td>NaN</td>\n",
       "    </tr>\n",
       "    <tr>\n",
       "      <th>...</th>\n",
       "      <td>...</td>\n",
       "      <td>...</td>\n",
       "      <td>...</td>\n",
       "      <td>...</td>\n",
       "      <td>...</td>\n",
       "      <td>...</td>\n",
       "      <td>...</td>\n",
       "      <td>...</td>\n",
       "      <td>...</td>\n",
       "      <td>...</td>\n",
       "      <td>...</td>\n",
       "      <td>...</td>\n",
       "      <td>...</td>\n",
       "      <td>...</td>\n",
       "      <td>...</td>\n",
       "      <td>...</td>\n",
       "    </tr>\n",
       "    <tr>\n",
       "      <th>12223</th>\n",
       "      <td>NaN</td>\n",
       "      <td>Московская область</td>\n",
       "      <td>NaN</td>\n",
       "      <td>48</td>\n",
       "      <td>с 45 до 60</td>\n",
       "      <td>NaN</td>\n",
       "      <td>NaN</td>\n",
       "      <td>NaN</td>\n",
       "      <td>NaN</td>\n",
       "      <td>NaN</td>\n",
       "      <td>NaN</td>\n",
       "      <td>NaN</td>\n",
       "      <td>NaN</td>\n",
       "      <td>NaN</td>\n",
       "      <td>NaN</td>\n",
       "      <td>NaN</td>\n",
       "    </tr>\n",
       "    <tr>\n",
       "      <th>12224</th>\n",
       "      <td>NaN</td>\n",
       "      <td>Московская область</td>\n",
       "      <td>Нет</td>\n",
       "      <td>70</td>\n",
       "      <td>60+</td>\n",
       "      <td>Оформлены официально</td>\n",
       "      <td>29000.0</td>\n",
       "      <td>20-30</td>\n",
       "      <td>NaN</td>\n",
       "      <td>NaN</td>\n",
       "      <td>NaN</td>\n",
       "      <td>NaN</td>\n",
       "      <td>NaN</td>\n",
       "      <td>NaN</td>\n",
       "      <td>NaN</td>\n",
       "      <td>NaN</td>\n",
       "    </tr>\n",
       "    <tr>\n",
       "      <th>12225</th>\n",
       "      <td>РОССИЯ</td>\n",
       "      <td>Московская область</td>\n",
       "      <td>NaN</td>\n",
       "      <td>70</td>\n",
       "      <td>60+</td>\n",
       "      <td>NaN</td>\n",
       "      <td>NaN</td>\n",
       "      <td>NaN</td>\n",
       "      <td>NaN</td>\n",
       "      <td>NaN</td>\n",
       "      <td>NaN</td>\n",
       "      <td>NaN</td>\n",
       "      <td>NaN</td>\n",
       "      <td>NaN</td>\n",
       "      <td>NaN</td>\n",
       "      <td>NaN</td>\n",
       "    </tr>\n",
       "    <tr>\n",
       "      <th>12226</th>\n",
       "      <td>РОССИЯ</td>\n",
       "      <td>Московская область</td>\n",
       "      <td>NaN</td>\n",
       "      <td>68</td>\n",
       "      <td>60+</td>\n",
       "      <td>NaN</td>\n",
       "      <td>NaN</td>\n",
       "      <td>NaN</td>\n",
       "      <td>Нет</td>\n",
       "      <td>NaN</td>\n",
       "      <td>NaN</td>\n",
       "      <td>NaN</td>\n",
       "      <td>5</td>\n",
       "      <td>NaN</td>\n",
       "      <td>NaN</td>\n",
       "      <td>NaN</td>\n",
       "    </tr>\n",
       "    <tr>\n",
       "      <th>12227</th>\n",
       "      <td>УКРАИНА</td>\n",
       "      <td>Московская область</td>\n",
       "      <td>NaN</td>\n",
       "      <td>80</td>\n",
       "      <td>60+</td>\n",
       "      <td>NaN</td>\n",
       "      <td>NaN</td>\n",
       "      <td>NaN</td>\n",
       "      <td>Да</td>\n",
       "      <td>NaN</td>\n",
       "      <td>NaN</td>\n",
       "      <td>NaN</td>\n",
       "      <td>5</td>\n",
       "      <td>NaN</td>\n",
       "      <td>NaN</td>\n",
       "      <td>NaN</td>\n",
       "    </tr>\n",
       "  </tbody>\n",
       "</table>\n",
       "<p>12228 rows × 16 columns</p>\n",
       "</div>"
      ],
      "text/plain": [
       "      is_migrant                                    region self_emp  age  \\\n",
       "0         РОССИЯ  Ленинградская область, Волосовский район      Нет   64   \n",
       "1         РОССИЯ  Ленинградская область, Волосовский район      NaN   75   \n",
       "2         РОССИЯ  Ленинградская область, Волосовский район      NaN   73   \n",
       "3         РОССИЯ  Ленинградская область, Волосовский район      NaN   65   \n",
       "4         РОССИЯ  Ленинградская область, Волосовский район      Нет   51   \n",
       "...          ...                                       ...      ...  ...   \n",
       "12223        NaN                        Московская область      NaN   48   \n",
       "12224        NaN                        Московская область      Нет   70   \n",
       "12225     РОССИЯ                        Московская область      NaN   70   \n",
       "12226     РОССИЯ                        Московская область      NaN   68   \n",
       "12227    УКРАИНА                        Московская область      NaN   80   \n",
       "\n",
       "        age_group               leg_emp     wage income_interval diploma_1  \\\n",
       "0             60+  Оформлены официально  20000.0           10-20       NaN   \n",
       "1             60+                   NaN      NaN             NaN       NaN   \n",
       "2             60+                   NaN      NaN             NaN       NaN   \n",
       "3             60+                   NaN      NaN             NaN       NaN   \n",
       "4      с 45 до 60  Оформлены официально  18000.0           10-20       NaN   \n",
       "...           ...                   ...      ...             ...       ...   \n",
       "12223  с 45 до 60                   NaN      NaN             NaN       NaN   \n",
       "12224         60+  Оформлены официально  29000.0           20-30       NaN   \n",
       "12225         60+                   NaN      NaN             NaN       NaN   \n",
       "12226         60+                   NaN      NaN             NaN       Нет   \n",
       "12227         60+                   NaN      NaN             NaN        Да   \n",
       "\n",
       "      diploma_2 diploma_3 diploma_4 uni_1 uni_2 uni_3 uni_4  \n",
       "0           NaN       NaN       NaN   NaN   NaN   NaN   NaN  \n",
       "1           NaN       NaN       NaN   NaN   NaN   NaN   NaN  \n",
       "2           NaN       NaN       NaN   NaN   NaN   NaN   NaN  \n",
       "3           NaN       NaN       NaN   NaN   NaN   NaN   NaN  \n",
       "4           NaN       NaN       NaN   NaN   NaN   NaN   NaN  \n",
       "...         ...       ...       ...   ...   ...   ...   ...  \n",
       "12223       NaN       NaN       NaN   NaN   NaN   NaN   NaN  \n",
       "12224       NaN       NaN       NaN   NaN   NaN   NaN   NaN  \n",
       "12225       NaN       NaN       NaN   NaN   NaN   NaN   NaN  \n",
       "12226       NaN       NaN       NaN     5   NaN   NaN   NaN  \n",
       "12227       NaN       NaN       NaN     5   NaN   NaN   NaN  \n",
       "\n",
       "[12228 rows x 16 columns]"
      ]
     },
     "execution_count": 369,
     "metadata": {},
     "output_type": "execute_result"
    }
   ],
   "source": [
    "df = pd.DataFrame()\n",
    "df['is_migrant'] = data['xi2'].astype('object')\n",
    "df['region'] = data['region'].astype('object')\n",
    "df['self_emp'] = data['xj26'].astype('object')\n",
    "df['age'] = data['x_age'].astype(\"int8\")\n",
    "bins = [15, 30, 45, 60, 100]\n",
    "labels = ['с 15 до 30', 'с 30 до 45', 'с 45 до 60', '60+']\n",
    "df['age_group'] = pd.cut(df['age'], labels = labels, bins = bins)\n",
    "df['leg_emp'] = data['xj11.1'].astype('object')\n",
    "df['wage'] = data['xj10']\n",
    "df['wage'] = pd.to_numeric(df['wage'], downcast = \"float\", errors = \"coerce\")\n",
    "bins = np.array([0, 10, 20, 30, 40, 100]) * 1000\n",
    "labels = [f\"{i*10}-{10*(i+1)}\" for i in range(4)] + [\"40+\"]\n",
    "df['income_interval'] = pd.cut(df['wage'], bins = bins, labels = labels)\n",
    "for i in range(1, 5):\n",
    "    df[f'diploma_{i}'] = data[f'xj72.5c{\"\" if i == 1 else i}'].astype('object')\n",
    "for i in (1, 2, 3, 4):\n",
    "    df[f\"uni_{i}\"] = data[f\"xj72.5b{'' if i == 1 else i}\"].astype('object')\n",
    "df"
   ]
  },
  {
   "cell_type": "markdown",
   "metadata": {},
   "source": [
    "## Обзор. Работа с данными"
   ]
  },
  {
   "cell_type": "markdown",
   "metadata": {},
   "source": [
    "<b>Для проверяющего</b>\n",
    "1. Я использую огромное количество датафреймов, в которых легко запутаться. Это сделано для того, чтобы не делать последующие выводы на перефильтрованных данных.\n",
    "2. Возможно есть более лаконичные записи того, что я сделал "
   ]
  },
  {
   "cell_type": "markdown",
   "metadata": {},
   "source": [
    "<h5>Процент неофициально и официально трудоустроенных в различных возрастных группах</h5>\n",
    "<p>\n",
    "    С помощью аггрегирования разбил по возрастным группам респондентов и посмотрел процент работающих официально и нет\n",
    "</p>"
   ]
  },
  {
   "cell_type": "code",
   "execution_count": 370,
   "metadata": {},
   "outputs": [
    {
     "data": {
      "text/html": [
       "<div>\n",
       "<style scoped>\n",
       "    .dataframe tbody tr th:only-of-type {\n",
       "        vertical-align: middle;\n",
       "    }\n",
       "\n",
       "    .dataframe tbody tr th {\n",
       "        vertical-align: top;\n",
       "    }\n",
       "\n",
       "    .dataframe thead th {\n",
       "        text-align: right;\n",
       "    }\n",
       "</style>\n",
       "<table border=\"1\" class=\"dataframe\">\n",
       "  <thead>\n",
       "    <tr style=\"text-align: right;\">\n",
       "      <th></th>\n",
       "      <th></th>\n",
       "      <th>leg_emp</th>\n",
       "    </tr>\n",
       "    <tr>\n",
       "      <th>age_group</th>\n",
       "      <th>leg_emp</th>\n",
       "      <th></th>\n",
       "    </tr>\n",
       "  </thead>\n",
       "  <tbody>\n",
       "    <tr>\n",
       "      <th rowspan=\"2\" valign=\"top\">с 15 до 30</th>\n",
       "      <th>Оформлены официально</th>\n",
       "      <td>91.47</td>\n",
       "    </tr>\n",
       "    <tr>\n",
       "      <th>Не оформлены официально</th>\n",
       "      <td>8.53</td>\n",
       "    </tr>\n",
       "    <tr>\n",
       "      <th rowspan=\"2\" valign=\"top\">с 30 до 45</th>\n",
       "      <th>Оформлены официально</th>\n",
       "      <td>93.14</td>\n",
       "    </tr>\n",
       "    <tr>\n",
       "      <th>Не оформлены официально</th>\n",
       "      <td>6.86</td>\n",
       "    </tr>\n",
       "    <tr>\n",
       "      <th rowspan=\"2\" valign=\"top\">с 45 до 60</th>\n",
       "      <th>Оформлены официально</th>\n",
       "      <td>92.03</td>\n",
       "    </tr>\n",
       "    <tr>\n",
       "      <th>Не оформлены официально</th>\n",
       "      <td>7.97</td>\n",
       "    </tr>\n",
       "    <tr>\n",
       "      <th rowspan=\"2\" valign=\"top\">60+</th>\n",
       "      <th>Оформлены официально</th>\n",
       "      <td>92.88</td>\n",
       "    </tr>\n",
       "    <tr>\n",
       "      <th>Не оформлены официально</th>\n",
       "      <td>7.12</td>\n",
       "    </tr>\n",
       "  </tbody>\n",
       "</table>\n",
       "</div>"
      ],
      "text/plain": [
       "                                    leg_emp\n",
       "age_group  leg_emp                         \n",
       "с 15 до 30 Оформлены официально       91.47\n",
       "           Не оформлены официально     8.53\n",
       "с 30 до 45 Оформлены официально       93.14\n",
       "           Не оформлены официально     6.86\n",
       "с 45 до 60 Оформлены официально       92.03\n",
       "           Не оформлены официально     7.97\n",
       "60+        Оформлены официально       92.88\n",
       "           Не оформлены официально     7.12"
      ]
     },
     "execution_count": 370,
     "metadata": {},
     "output_type": "execute_result"
    }
   ],
   "source": [
    "percentage = lambda x: round(x / x.sum() * 100, 2)\n",
    "df_age_emp = pd.DataFrame()\n",
    "df_age_emp = df[df['leg_emp'].isin(['Оформлены официально', 'Не оформлены официально'])].copy()\n",
    "df_age_emp.groupby('age_group')['leg_emp'].value_counts().to_frame().groupby(level=0).apply(percentage)"
   ]
  },
  {
   "cell_type": "markdown",
   "metadata": {},
   "source": [
    "<h5>Проверим гипотезу: \"Возраст не влияет на тип трудоустройства\"</h5>\n",
    "<img src=\"https://images.slideplayer.com/31/9626033/slides/slide_8.jpg\" alter=\"картинка с хи-квадратом\" width=300>"
   ]
  },
  {
   "cell_type": "code",
   "execution_count": 371,
   "metadata": {},
   "outputs": [
    {
     "data": {
      "text/html": [
       "<div>\n",
       "<style scoped>\n",
       "    .dataframe tbody tr th:only-of-type {\n",
       "        vertical-align: middle;\n",
       "    }\n",
       "\n",
       "    .dataframe tbody tr th {\n",
       "        vertical-align: top;\n",
       "    }\n",
       "\n",
       "    .dataframe thead th {\n",
       "        text-align: right;\n",
       "    }\n",
       "</style>\n",
       "<table border=\"1\" class=\"dataframe\">\n",
       "  <thead>\n",
       "    <tr style=\"text-align: right;\">\n",
       "      <th>leg_emp</th>\n",
       "      <th>Не оформлены официально</th>\n",
       "      <th>Оформлены официально</th>\n",
       "    </tr>\n",
       "    <tr>\n",
       "      <th>age_group</th>\n",
       "      <th></th>\n",
       "      <th></th>\n",
       "    </tr>\n",
       "  </thead>\n",
       "  <tbody>\n",
       "    <tr>\n",
       "      <th>с 15 до 30</th>\n",
       "      <td>69</td>\n",
       "      <td>740</td>\n",
       "    </tr>\n",
       "    <tr>\n",
       "      <th>с 30 до 45</th>\n",
       "      <td>133</td>\n",
       "      <td>1805</td>\n",
       "    </tr>\n",
       "    <tr>\n",
       "      <th>с 45 до 60</th>\n",
       "      <td>120</td>\n",
       "      <td>1386</td>\n",
       "    </tr>\n",
       "    <tr>\n",
       "      <th>60+</th>\n",
       "      <td>28</td>\n",
       "      <td>365</td>\n",
       "    </tr>\n",
       "  </tbody>\n",
       "</table>\n",
       "</div>"
      ],
      "text/plain": [
       "leg_emp     Не оформлены официально  Оформлены официально\n",
       "age_group                                                \n",
       "с 15 до 30                       69                   740\n",
       "с 30 до 45                      133                  1805\n",
       "с 45 до 60                      120                  1386\n",
       "60+                              28                   365"
      ]
     },
     "execution_count": 371,
     "metadata": {},
     "output_type": "execute_result"
    }
   ],
   "source": [
    "# Нулевая гипотеза: Возраст не влияет на тип трудоустройства\n",
    "crosstab_age = pd.crosstab(df_age_emp['age_group'], df_age_emp['leg_emp'])\n",
    "crosstab_age"
   ]
  },
  {
   "cell_type": "code",
   "execution_count": 372,
   "metadata": {},
   "outputs": [
    {
     "name": "stdout",
     "output_type": "stream",
     "text": [
      "\u001b[32m2.91 полученная величина chi-square\u001b[0m\n",
      "\u001b[91m7.81 - критическое значение chi-square\u001b[0m\n"
     ]
    }
   ],
   "source": [
    "# Начнем с расчета хи-квадрат по выборке\n",
    "chi_val, p, f_dim, exp = stats.chi2_contingency(crosstab_age.values)\n",
    "color_print(f\"{round(chi_val, 2)} полученная величина chi-square\")\n",
    "# Посчитаем критическое значение при статистической важности 0.05 и количестве признаков f_dim = (2-1)*(4-1)=3\n",
    "critical_value = stats.chi2.ppf(q = 1-0.05, df = f_dim)\n",
    "color_print(f\"{round(critical_value, 2)} - критическое значение chi-square\", 'red')"
   ]
  },
  {
   "cell_type": "markdown",
   "metadata": {},
   "source": [
    "Таким образом, мы получили, что расчитанная величина хи-квадрат меньше максимально возможной, поэтому мы принимаем\n",
    "гипотезу независимости на уровне значимости 0.05"
   ]
  },
  {
   "cell_type": "markdown",
   "metadata": {},
   "source": [
    "<h5>Проверим гипотезу: \"Наличие высшего образования не влияет на величину заработной платы\"</h5>"
   ]
  },
  {
   "cell_type": "code",
   "execution_count": 373,
   "metadata": {},
   "outputs": [
    {
     "data": {
      "text/html": [
       "<div>\n",
       "<style scoped>\n",
       "    .dataframe tbody tr th:only-of-type {\n",
       "        vertical-align: middle;\n",
       "    }\n",
       "\n",
       "    .dataframe tbody tr th {\n",
       "        vertical-align: top;\n",
       "    }\n",
       "\n",
       "    .dataframe thead th {\n",
       "        text-align: right;\n",
       "    }\n",
       "</style>\n",
       "<table border=\"1\" class=\"dataframe\">\n",
       "  <thead>\n",
       "    <tr style=\"text-align: right;\">\n",
       "      <th>income_interval</th>\n",
       "      <th>0-10</th>\n",
       "      <th>10-20</th>\n",
       "      <th>20-30</th>\n",
       "      <th>30-40</th>\n",
       "      <th>40+</th>\n",
       "    </tr>\n",
       "    <tr>\n",
       "      <th>row_0</th>\n",
       "      <th></th>\n",
       "      <th></th>\n",
       "      <th></th>\n",
       "      <th></th>\n",
       "      <th></th>\n",
       "    </tr>\n",
       "  </thead>\n",
       "  <tbody>\n",
       "    <tr>\n",
       "      <th>Да</th>\n",
       "      <td>86</td>\n",
       "      <td>417</td>\n",
       "      <td>453</td>\n",
       "      <td>316</td>\n",
       "      <td>449</td>\n",
       "    </tr>\n",
       "    <tr>\n",
       "      <th>Нет</th>\n",
       "      <td>9</td>\n",
       "      <td>48</td>\n",
       "      <td>40</td>\n",
       "      <td>27</td>\n",
       "      <td>40</td>\n",
       "    </tr>\n",
       "  </tbody>\n",
       "</table>\n",
       "</div>"
      ],
      "text/plain": [
       "income_interval  0-10  10-20  20-30  30-40  40+\n",
       "row_0                                          \n",
       "Да                 86    417    453    316  449\n",
       "Нет                 9     48     40     27   40"
      ]
     },
     "execution_count": 373,
     "metadata": {},
     "output_type": "execute_result"
    }
   ],
   "source": [
    "# Нулевая гипотеза: Наличие высшего образования не влияет на величину заработной платы\n",
    "df_wage = df[np.abs(df.wage - df.wage.mean()) <= (3 * df.wage.std())]\n",
    "df_list = [df_wage['diploma_1'], df_wage['diploma_2'], df_wage['diploma_3'], df_wage['diploma_4']]\n",
    "crosstab_wage = pd.crosstab(pd.concat(df_list), df_wage['income_interval'])\n",
    "crosstab_wage.drop('НЕТ ОТВЕТА', axis = 0, inplace = True)\n",
    "crosstab_wage"
   ]
  },
  {
   "cell_type": "code",
   "execution_count": 374,
   "metadata": {},
   "outputs": [
    {
     "name": "stdout",
     "output_type": "stream",
     "text": [
      "\u001b[32m2.29 полученная величина chi-square\u001b[0m\n",
      "\u001b[91m9.49 - критическое значение chi-square\u001b[0m\n"
     ]
    }
   ],
   "source": [
    "# Начнем с расчета хи-квадрат по выборке\n",
    "chi_val, p, f_dim, exp = stats.chi2_contingency(crosstab_wage.values)\n",
    "color_print(f\"{round(chi_val, 2)} полученная величина chi-square\")\n",
    "# Посчитаем критическое значение при статистической важности 0.05 и количестве признаков f_dim = (2-1)*(5-1)=4\n",
    "critical_value = stats.chi2.ppf(q = 1-0.05, df = f_dim)\n",
    "color_print(f\"{round(critical_value, 2)} - критическое значение chi-square\", 'red')"
   ]
  },
  {
   "cell_type": "markdown",
   "metadata": {},
   "source": [
    "Таким образом, мы принимаем нулевую гипотезу о независимости двух распределений (наличие высшего образования не \n",
    "влияет на заработную плату) \n",
    "<br>\n",
    "В конце файла есть небольшая регрессия количества оконченных лет в высшем учебном заведении с уровнем зп - зависимость оказалась незначительной"
   ]
  },
  {
   "cell_type": "markdown",
   "metadata": {},
   "source": [
    "<h5>Проверим гипотезу: \"Образование не влияет на тип трудойстройства\"</h5>"
   ]
  },
  {
   "cell_type": "code",
   "execution_count": 375,
   "metadata": {},
   "outputs": [
    {
     "data": {
      "text/html": [
       "<div>\n",
       "<style scoped>\n",
       "    .dataframe tbody tr th:only-of-type {\n",
       "        vertical-align: middle;\n",
       "    }\n",
       "\n",
       "    .dataframe tbody tr th {\n",
       "        vertical-align: top;\n",
       "    }\n",
       "\n",
       "    .dataframe thead th {\n",
       "        text-align: right;\n",
       "    }\n",
       "</style>\n",
       "<table border=\"1\" class=\"dataframe\">\n",
       "  <thead>\n",
       "    <tr style=\"text-align: right;\">\n",
       "      <th>leg_emp</th>\n",
       "      <th>Не оформлены официально</th>\n",
       "      <th>Оформлены официально</th>\n",
       "    </tr>\n",
       "    <tr>\n",
       "      <th>row_0</th>\n",
       "      <th></th>\n",
       "      <th></th>\n",
       "    </tr>\n",
       "  </thead>\n",
       "  <tbody>\n",
       "    <tr>\n",
       "      <th>Да</th>\n",
       "      <td>57</td>\n",
       "      <td>1777</td>\n",
       "    </tr>\n",
       "    <tr>\n",
       "      <th>Нет</th>\n",
       "      <td>14</td>\n",
       "      <td>140</td>\n",
       "    </tr>\n",
       "  </tbody>\n",
       "</table>\n",
       "</div>"
      ],
      "text/plain": [
       "leg_emp  Не оформлены официально  Оформлены официально\n",
       "row_0                                                 \n",
       "Да                            57                  1777\n",
       "Нет                           14                   140"
      ]
     },
     "execution_count": 375,
     "metadata": {},
     "output_type": "execute_result"
    }
   ],
   "source": [
    "# Создадим таблицу (Строки - количество с высшим образованием и без него)\n",
    "# Нулевая гипотеза - Образование не влияет на тип трудойстройства\n",
    "df_edu_emp = df_age_emp.copy()\n",
    "df_list = [df_edu_emp['diploma_1'], df_edu_emp['diploma_2'], df_edu_emp['diploma_3'], df_edu_emp['diploma_4']]\n",
    "crosstab_edu = pd.crosstab(pd.concat(df_list), df_edu_emp['leg_emp'])\n",
    "crosstab_edu.drop('НЕТ ОТВЕТА', inplace = True)\n",
    "crosstab_edu"
   ]
  },
  {
   "cell_type": "code",
   "execution_count": 376,
   "metadata": {},
   "outputs": [
    {
     "name": "stdout",
     "output_type": "stream",
     "text": [
      "\u001b[32m13.08 полученная величина chi-square\u001b[0m\n",
      "\u001b[91m3.84 - критическое значение chi-square\u001b[0m\n"
     ]
    }
   ],
   "source": [
    "chi_val, p, f_dim, exp = stats.chi2_contingency(crosstab_edu.values)\n",
    "color_print(f\"{round(chi_val, 2)} полученная величина chi-square\")\n",
    "# Посчитаем критическое значение при статистической важности 0.05 и количестве признаков f_dim = (2-1)*(2-1) = 1\n",
    "critical_value = stats.chi2.ppf(q = 1-0.05, df = f_dim)\n",
    "color_print(f\"{round(critical_value, 2)} - критическое значение chi-square\", 'red')"
   ]
  },
  {
   "cell_type": "markdown",
   "metadata": {},
   "source": [
    "Таким образом, мы получили, что расчитанная величина хи-квадрат больше максимально возможной, поэтому мы отвергаем \n",
    "нулевую гипотезу на уровне значимости 0.05 и утверждаем, что величины зависят друг от друга"
   ]
  },
  {
   "cell_type": "markdown",
   "metadata": {},
   "source": [
    "<h5>Средняя заработная плата среди официально и неофициально оформленных</h5>"
   ]
  },
  {
   "cell_type": "code",
   "execution_count": 377,
   "metadata": {},
   "outputs": [
    {
     "data": {
      "text/html": [
       "<div>\n",
       "<style scoped>\n",
       "    .dataframe tbody tr th:only-of-type {\n",
       "        vertical-align: middle;\n",
       "    }\n",
       "\n",
       "    .dataframe tbody tr th {\n",
       "        vertical-align: top;\n",
       "    }\n",
       "\n",
       "    .dataframe thead th {\n",
       "        text-align: right;\n",
       "    }\n",
       "</style>\n",
       "<table border=\"1\" class=\"dataframe\">\n",
       "  <thead>\n",
       "    <tr style=\"text-align: right;\">\n",
       "      <th></th>\n",
       "      <th>wage</th>\n",
       "    </tr>\n",
       "    <tr>\n",
       "      <th>leg_emp</th>\n",
       "      <th></th>\n",
       "    </tr>\n",
       "  </thead>\n",
       "  <tbody>\n",
       "    <tr>\n",
       "      <th>Не оформлены официально</th>\n",
       "      <td>21817.0</td>\n",
       "    </tr>\n",
       "    <tr>\n",
       "      <th>Оформлены официально</th>\n",
       "      <td>28124.0</td>\n",
       "    </tr>\n",
       "  </tbody>\n",
       "</table>\n",
       "</div>"
      ],
      "text/plain": [
       "                            wage\n",
       "leg_emp                         \n",
       "Не оформлены официально  21817.0\n",
       "Оформлены официально     28124.0"
      ]
     },
     "execution_count": 377,
     "metadata": {},
     "output_type": "execute_result"
    }
   ],
   "source": [
    "# В целом зп среди всех\n",
    "df_wage_emp = df_age_emp.copy()\n",
    "df_wage_emp = df_wage_emp[np.abs(df_wage_emp.wage - df_wage_emp.wage.mean()) <= (3 * df_wage_emp.wage.std())]\n",
    "df_wage_emp.groupby(\"leg_emp\")['wage'].mean().round().to_frame()"
   ]
  },
  {
   "cell_type": "code",
   "execution_count": 378,
   "metadata": {},
   "outputs": [
    {
     "data": {
      "text/html": [
       "<div>\n",
       "<style scoped>\n",
       "    .dataframe tbody tr th:only-of-type {\n",
       "        vertical-align: middle;\n",
       "    }\n",
       "\n",
       "    .dataframe tbody tr th {\n",
       "        vertical-align: top;\n",
       "    }\n",
       "\n",
       "    .dataframe thead th {\n",
       "        text-align: right;\n",
       "    }\n",
       "</style>\n",
       "<table border=\"1\" class=\"dataframe\">\n",
       "  <thead>\n",
       "    <tr style=\"text-align: right;\">\n",
       "      <th></th>\n",
       "      <th></th>\n",
       "      <th>leg_emp</th>\n",
       "    </tr>\n",
       "    <tr>\n",
       "      <th>is_migrant</th>\n",
       "      <th>leg_emp</th>\n",
       "      <th></th>\n",
       "    </tr>\n",
       "  </thead>\n",
       "  <tbody>\n",
       "    <tr>\n",
       "      <th rowspan=\"2\" valign=\"top\">False</th>\n",
       "      <th>Оформлены официально</th>\n",
       "      <td>291</td>\n",
       "    </tr>\n",
       "    <tr>\n",
       "      <th>Не оформлены официально</th>\n",
       "      <td>38</td>\n",
       "    </tr>\n",
       "    <tr>\n",
       "      <th rowspan=\"2\" valign=\"top\">True</th>\n",
       "      <th>Оформлены официально</th>\n",
       "      <td>1550</td>\n",
       "    </tr>\n",
       "    <tr>\n",
       "      <th>Не оформлены официально</th>\n",
       "      <td>128</td>\n",
       "    </tr>\n",
       "  </tbody>\n",
       "</table>\n",
       "</div>"
      ],
      "text/plain": [
       "                                    leg_emp\n",
       "is_migrant leg_emp                         \n",
       "False      Оформлены официально         291\n",
       "           Не оформлены официально       38\n",
       "True       Оформлены официально        1550\n",
       "           Не оформлены официально      128"
      ]
     },
     "execution_count": 378,
     "metadata": {},
     "output_type": "execute_result"
    }
   ],
   "source": [
    "# Общее количество мигрантов, немигрантов работающих официально и нет\n",
    "df_migrant = df_age_emp.copy()\n",
    "df_migrant['is_migrant'] = df_migrant['is_migrant'].dropna() == 'РОССИЯ'\n",
    "df_migrant.groupby('is_migrant')['leg_emp'].value_counts().to_frame()"
   ]
  },
  {
   "cell_type": "code",
   "execution_count": 379,
   "metadata": {},
   "outputs": [
    {
     "data": {
      "text/html": [
       "<div>\n",
       "<style scoped>\n",
       "    .dataframe tbody tr th:only-of-type {\n",
       "        vertical-align: middle;\n",
       "    }\n",
       "\n",
       "    .dataframe tbody tr th {\n",
       "        vertical-align: top;\n",
       "    }\n",
       "\n",
       "    .dataframe thead th {\n",
       "        text-align: right;\n",
       "    }\n",
       "</style>\n",
       "<table border=\"1\" class=\"dataframe\">\n",
       "  <thead>\n",
       "    <tr style=\"text-align: right;\">\n",
       "      <th></th>\n",
       "      <th></th>\n",
       "      <th>wage</th>\n",
       "    </tr>\n",
       "    <tr>\n",
       "      <th>is_migrant</th>\n",
       "      <th>leg_emp</th>\n",
       "      <th></th>\n",
       "    </tr>\n",
       "  </thead>\n",
       "  <tbody>\n",
       "    <tr>\n",
       "      <th rowspan=\"2\" valign=\"top\">False</th>\n",
       "      <th>Не оформлены официально</th>\n",
       "      <td>20584.0</td>\n",
       "    </tr>\n",
       "    <tr>\n",
       "      <th>Оформлены официально</th>\n",
       "      <td>31459.0</td>\n",
       "    </tr>\n",
       "    <tr>\n",
       "      <th rowspan=\"2\" valign=\"top\">True</th>\n",
       "      <th>Не оформлены официально</th>\n",
       "      <td>22256.0</td>\n",
       "    </tr>\n",
       "    <tr>\n",
       "      <th>Оформлены официально</th>\n",
       "      <td>27490.0</td>\n",
       "    </tr>\n",
       "  </tbody>\n",
       "</table>\n",
       "</div>"
      ],
      "text/plain": [
       "                                       wage\n",
       "is_migrant leg_emp                         \n",
       "False      Не оформлены официально  20584.0\n",
       "           Оформлены официально     31459.0\n",
       "True       Не оформлены официально  22256.0\n",
       "           Оформлены официально     27490.0"
      ]
     },
     "execution_count": 379,
     "metadata": {},
     "output_type": "execute_result"
    }
   ],
   "source": [
    "# Средняя зп среди мигрантов и местных\n",
    "df_mi_wage = df_migrant.copy()\n",
    "df_mi_wage = df_mi_wage[np.abs(df_mi_wage.wage - df_mi_wage.wage.mean()) <= (3 * df_mi_wage.wage.std())]\n",
    "df_mi_wage.groupby(['is_migrant', 'leg_emp'])['wage'].mean().round().to_frame()"
   ]
  },
  {
   "cell_type": "markdown",
   "metadata": {},
   "source": [
    "<h5>Статистический тест: Существует ли зависимость признака (мигрант или нет) с типом оформления?</h5>"
   ]
  },
  {
   "cell_type": "code",
   "execution_count": 380,
   "metadata": {},
   "outputs": [
    {
     "data": {
      "text/html": [
       "<div>\n",
       "<style scoped>\n",
       "    .dataframe tbody tr th:only-of-type {\n",
       "        vertical-align: middle;\n",
       "    }\n",
       "\n",
       "    .dataframe tbody tr th {\n",
       "        vertical-align: top;\n",
       "    }\n",
       "\n",
       "    .dataframe thead th {\n",
       "        text-align: right;\n",
       "    }\n",
       "</style>\n",
       "<table border=\"1\" class=\"dataframe\">\n",
       "  <thead>\n",
       "    <tr style=\"text-align: right;\">\n",
       "      <th>leg_emp</th>\n",
       "      <th>Не оформлены официально</th>\n",
       "      <th>Оформлены официально</th>\n",
       "    </tr>\n",
       "    <tr>\n",
       "      <th>is_migrant</th>\n",
       "      <th></th>\n",
       "      <th></th>\n",
       "    </tr>\n",
       "  </thead>\n",
       "  <tbody>\n",
       "    <tr>\n",
       "      <th>False</th>\n",
       "      <td>38</td>\n",
       "      <td>291</td>\n",
       "    </tr>\n",
       "    <tr>\n",
       "      <th>True</th>\n",
       "      <td>128</td>\n",
       "      <td>1550</td>\n",
       "    </tr>\n",
       "  </tbody>\n",
       "</table>\n",
       "</div>"
      ],
      "text/plain": [
       "leg_emp     Не оформлены официально  Оформлены официально\n",
       "is_migrant                                               \n",
       "False                            38                   291\n",
       "True                            128                  1550"
      ]
     },
     "execution_count": 380,
     "metadata": {},
     "output_type": "execute_result"
    }
   ],
   "source": [
    "# Нулевая гипотеза - признак (мигрант или нет) не влияет на тип оформления на работе\n",
    "crosstab_migrant = pd.crosstab(df_migrant['is_migrant'], df_migrant['leg_emp'])\n",
    "crosstab_migrant"
   ]
  },
  {
   "cell_type": "code",
   "execution_count": 381,
   "metadata": {},
   "outputs": [
    {
     "name": "stdout",
     "output_type": "stream",
     "text": [
      "\u001b[32m5.07 полученная величина chi-square\u001b[0m\n",
      "\u001b[91m3.84 - критическое значение chi-square\u001b[0m\n"
     ]
    }
   ],
   "source": [
    "# Расчитанная величина хи-квадрат\n",
    "chi_val, p, f_dim, exp = stats.chi2_contingency(crosstab_migrant.values)\n",
    "color_print(f\"{round(chi_val, 2)} полученная величина chi-square\")\n",
    "# Посчитаем критическое значение при статистической важности 0.05 и количестве признаков f_dim = (2-1)*(2-1)=1\n",
    "critical_value = stats.chi2.ppf(q = 1-0.05, df = f_dim)\n",
    "color_print(f\"{round(critical_value, 2)} - критическое значение chi-square\", 'red')"
   ]
  },
  {
   "cell_type": "markdown",
   "metadata": {},
   "source": [
    "Таким образом, мы получили, что расчитанная величина хи-квадрат больше максимально возможной, поэтому мы отвергаем\n",
    "гипотезу независимости на уровне значимости 0.05 и утверждаем, что зависимость существует"
   ]
  },
  {
   "cell_type": "markdown",
   "metadata": {},
   "source": [
    "<h5>Статистический тест: Не существует зависимость между величиной заработной платы и типом оформления</h5>"
   ]
  },
  {
   "cell_type": "code",
   "execution_count": 382,
   "metadata": {},
   "outputs": [
    {
     "data": {
      "text/html": [
       "<div>\n",
       "<style scoped>\n",
       "    .dataframe tbody tr th:only-of-type {\n",
       "        vertical-align: middle;\n",
       "    }\n",
       "\n",
       "    .dataframe tbody tr th {\n",
       "        vertical-align: top;\n",
       "    }\n",
       "\n",
       "    .dataframe thead th {\n",
       "        text-align: right;\n",
       "    }\n",
       "</style>\n",
       "<table border=\"1\" class=\"dataframe\">\n",
       "  <thead>\n",
       "    <tr style=\"text-align: right;\">\n",
       "      <th>income_interval</th>\n",
       "      <th>0-10</th>\n",
       "      <th>10-20</th>\n",
       "      <th>20-30</th>\n",
       "      <th>30-40</th>\n",
       "      <th>40+</th>\n",
       "    </tr>\n",
       "    <tr>\n",
       "      <th>leg_emp</th>\n",
       "      <th></th>\n",
       "      <th></th>\n",
       "      <th></th>\n",
       "      <th></th>\n",
       "      <th></th>\n",
       "    </tr>\n",
       "  </thead>\n",
       "  <tbody>\n",
       "    <tr>\n",
       "      <th>Не оформлены официально</th>\n",
       "      <td>68</td>\n",
       "      <td>124</td>\n",
       "      <td>79</td>\n",
       "      <td>36</td>\n",
       "      <td>21</td>\n",
       "    </tr>\n",
       "    <tr>\n",
       "      <th>Оформлены официально</th>\n",
       "      <td>265</td>\n",
       "      <td>1352</td>\n",
       "      <td>1083</td>\n",
       "      <td>612</td>\n",
       "      <td>672</td>\n",
       "    </tr>\n",
       "  </tbody>\n",
       "</table>\n",
       "</div>"
      ],
      "text/plain": [
       "income_interval          0-10  10-20  20-30  30-40  40+\n",
       "leg_emp                                                \n",
       "Не оформлены официально    68    124     79     36   21\n",
       "Оформлены официально      265   1352   1083    612  672"
      ]
     },
     "execution_count": 382,
     "metadata": {},
     "output_type": "execute_result"
    }
   ],
   "source": [
    "# Нулевая гипотеза - Не существует зависимость между величиной заработной платы и типом оформления\n",
    "crosstab_data = pd.crosstab(df_wage_emp['leg_emp'], df_wage_emp['income_interval'])\n",
    "crosstab_data"
   ]
  },
  {
   "cell_type": "code",
   "execution_count": 383,
   "metadata": {},
   "outputs": [
    {
     "name": "stdout",
     "output_type": "stream",
     "text": [
      "\u001b[32m104.73 полученная величина chi-square\u001b[0m\n",
      "\u001b[91m9.49 - критическое значение chi-square\u001b[0m\n"
     ]
    }
   ],
   "source": [
    "chi_val, p, f_dim, exp = stats.chi2_contingency(crosstab_data.values)\n",
    "color_print(f\"{round(chi_val, 2)} полученная величина chi-square\")\n",
    "# Посчитаем критическое значение при статистической важности 0.05 и количестве признаков (10-1)*(2-1)=9\n",
    "critical_value = stats.chi2.ppf(q = 1-0.05, df = f_dim)\n",
    "color_print(f\"{round(critical_value, 2)} - критическое значение chi-square\", 'red')"
   ]
  },
  {
   "cell_type": "markdown",
   "metadata": {},
   "source": [
    "Таким образом, так как полученная величина хи-квадрат больше критической величины мы отвергаем нулевую гипотезу\n",
    "и принимаем гипотезу о зависимости"
   ]
  },
  {
   "cell_type": "markdown",
   "metadata": {},
   "source": [
    "<h5>Сравнение самозанятых и наемных рабочих по официальности трудоустройства</h5>"
   ]
  },
  {
   "cell_type": "code",
   "execution_count": 384,
   "metadata": {},
   "outputs": [],
   "source": [
    "# xj26 - А Вы лично являетесь владельцем или совладельцем предприятия, на котором Вы работаете?\n",
    "# xj29 - Как Вы считаете, на этой работе Вы занимаетесь предпринимательской деятельностью?"
   ]
  },
  {
   "cell_type": "code",
   "execution_count": 385,
   "metadata": {},
   "outputs": [],
   "source": [
    "df_self_emp = df_age_emp.copy()\n",
    "df_self_emp = df_self_emp[df_self_emp['self_emp'].isin(['Да', 'Нет'])]"
   ]
  },
  {
   "cell_type": "code",
   "execution_count": 386,
   "metadata": {
    "scrolled": true
   },
   "outputs": [
    {
     "data": {
      "text/html": [
       "<div>\n",
       "<style scoped>\n",
       "    .dataframe tbody tr th:only-of-type {\n",
       "        vertical-align: middle;\n",
       "    }\n",
       "\n",
       "    .dataframe tbody tr th {\n",
       "        vertical-align: top;\n",
       "    }\n",
       "\n",
       "    .dataframe thead th {\n",
       "        text-align: right;\n",
       "    }\n",
       "</style>\n",
       "<table border=\"1\" class=\"dataframe\">\n",
       "  <thead>\n",
       "    <tr style=\"text-align: right;\">\n",
       "      <th></th>\n",
       "      <th></th>\n",
       "      <th>leg_emp</th>\n",
       "    </tr>\n",
       "    <tr>\n",
       "      <th>self_emp</th>\n",
       "      <th>leg_emp</th>\n",
       "      <th></th>\n",
       "    </tr>\n",
       "  </thead>\n",
       "  <tbody>\n",
       "    <tr>\n",
       "      <th rowspan=\"2\" valign=\"top\">Да</th>\n",
       "      <th>Оформлены официально</th>\n",
       "      <td>93.08</td>\n",
       "    </tr>\n",
       "    <tr>\n",
       "      <th>Не оформлены официально</th>\n",
       "      <td>6.92</td>\n",
       "    </tr>\n",
       "    <tr>\n",
       "      <th rowspan=\"2\" valign=\"top\">Нет</th>\n",
       "      <th>Оформлены официально</th>\n",
       "      <td>92.45</td>\n",
       "    </tr>\n",
       "    <tr>\n",
       "      <th>Не оформлены официально</th>\n",
       "      <td>7.55</td>\n",
       "    </tr>\n",
       "  </tbody>\n",
       "</table>\n",
       "</div>"
      ],
      "text/plain": [
       "                                  leg_emp\n",
       "self_emp leg_emp                         \n",
       "Да       Оформлены официально       93.08\n",
       "         Не оформлены официально     6.92\n",
       "Нет      Оформлены официально       92.45\n",
       "         Не оформлены официально     7.55"
      ]
     },
     "execution_count": 386,
     "metadata": {},
     "output_type": "execute_result"
    }
   ],
   "source": [
    "# Процент официально, неофициально оформленных среди самозанятых\n",
    "percent = lambda x: round(100 * x / float(x.sum()), 2)\n",
    "df_self_emp.groupby('self_emp')['leg_emp'].value_counts().to_frame().groupby(level=0).apply(percent)"
   ]
  },
  {
   "cell_type": "markdown",
   "metadata": {},
   "source": [
    "<h5>Соотношение по типам трудоустройства по регионам</h5>"
   ]
  },
  {
   "cell_type": "code",
   "execution_count": 387,
   "metadata": {
    "scrolled": false
   },
   "outputs": [
    {
     "data": {
      "text/html": [
       "<div>\n",
       "<style scoped>\n",
       "    .dataframe tbody tr th:only-of-type {\n",
       "        vertical-align: middle;\n",
       "    }\n",
       "\n",
       "    .dataframe tbody tr th {\n",
       "        vertical-align: top;\n",
       "    }\n",
       "\n",
       "    .dataframe thead th {\n",
       "        text-align: right;\n",
       "    }\n",
       "</style>\n",
       "<table border=\"1\" class=\"dataframe\">\n",
       "  <thead>\n",
       "    <tr style=\"text-align: right;\">\n",
       "      <th></th>\n",
       "      <th></th>\n",
       "      <th>leg_emp</th>\n",
       "      <th>percentage</th>\n",
       "    </tr>\n",
       "    <tr>\n",
       "      <th>region</th>\n",
       "      <th>leg_emp</th>\n",
       "      <th></th>\n",
       "      <th></th>\n",
       "    </tr>\n",
       "  </thead>\n",
       "  <tbody>\n",
       "    <tr>\n",
       "      <th rowspan=\"2\" valign=\"top\">Алтайский край, Бийск и Бийский район</th>\n",
       "      <th>Оформлены официально</th>\n",
       "      <td>91</td>\n",
       "      <td>89.22</td>\n",
       "    </tr>\n",
       "    <tr>\n",
       "      <th>Не оформлены официально</th>\n",
       "      <td>11</td>\n",
       "      <td>10.78</td>\n",
       "    </tr>\n",
       "    <tr>\n",
       "      <th>Алтайский край, Курьинский район</th>\n",
       "      <th>Оформлены официально</th>\n",
       "      <td>70</td>\n",
       "      <td>100.00</td>\n",
       "    </tr>\n",
       "    <tr>\n",
       "      <th>Амурская область, Тамбовский район</th>\n",
       "      <th>Оформлены официально</th>\n",
       "      <td>75</td>\n",
       "      <td>100.00</td>\n",
       "    </tr>\n",
       "    <tr>\n",
       "      <th>Владивосток</th>\n",
       "      <th>Оформлены официально</th>\n",
       "      <td>130</td>\n",
       "      <td>87.25</td>\n",
       "    </tr>\n",
       "    <tr>\n",
       "      <th>...</th>\n",
       "      <th>...</th>\n",
       "      <td>...</td>\n",
       "      <td>...</td>\n",
       "    </tr>\n",
       "    <tr>\n",
       "      <th>Удмуртская Республика, Глазов и Глазовский район</th>\n",
       "      <th>Не оформлены официально</th>\n",
       "      <td>7</td>\n",
       "      <td>5.60</td>\n",
       "    </tr>\n",
       "    <tr>\n",
       "      <th rowspan=\"2\" valign=\"top\">Челябинск</th>\n",
       "      <th>Оформлены официально</th>\n",
       "      <td>104</td>\n",
       "      <td>92.04</td>\n",
       "    </tr>\n",
       "    <tr>\n",
       "      <th>Не оформлены официально</th>\n",
       "      <td>9</td>\n",
       "      <td>7.96</td>\n",
       "    </tr>\n",
       "    <tr>\n",
       "      <th rowspan=\"2\" valign=\"top\">Челябинская область, Красноармейский район</th>\n",
       "      <th>Оформлены официально</th>\n",
       "      <td>103</td>\n",
       "      <td>90.35</td>\n",
       "    </tr>\n",
       "    <tr>\n",
       "      <th>Не оформлены официально</th>\n",
       "      <td>11</td>\n",
       "      <td>9.65</td>\n",
       "    </tr>\n",
       "  </tbody>\n",
       "</table>\n",
       "<p>73 rows × 2 columns</p>\n",
       "</div>"
      ],
      "text/plain": [
       "                                                                          leg_emp  \\\n",
       "region                                           leg_emp                            \n",
       "Алтайский край, Бийск и Бийский район            Оформлены официально          91   \n",
       "                                                 Не оформлены официально       11   \n",
       "Алтайский край, Курьинский район                 Оформлены официально          70   \n",
       "Амурская область, Тамбовский район               Оформлены официально          75   \n",
       "Владивосток                                      Оформлены официально         130   \n",
       "...                                                                           ...   \n",
       "Удмуртская Республика, Глазов и Глазовский район Не оформлены официально        7   \n",
       "Челябинск                                        Оформлены официально         104   \n",
       "                                                 Не оформлены официально        9   \n",
       "Челябинская область, Красноармейский район       Оформлены официально         103   \n",
       "                                                 Не оформлены официально       11   \n",
       "\n",
       "                                                                          percentage  \n",
       "region                                           leg_emp                              \n",
       "Алтайский край, Бийск и Бийский район            Оформлены официально          89.22  \n",
       "                                                 Не оформлены официально       10.78  \n",
       "Алтайский край, Курьинский район                 Оформлены официально         100.00  \n",
       "Амурская область, Тамбовский район               Оформлены официально         100.00  \n",
       "Владивосток                                      Оформлены официально          87.25  \n",
       "...                                                                              ...  \n",
       "Удмуртская Республика, Глазов и Глазовский район Не оформлены официально        5.60  \n",
       "Челябинск                                        Оформлены официально          92.04  \n",
       "                                                 Не оформлены официально        7.96  \n",
       "Челябинская область, Красноармейский район       Оформлены официально          90.35  \n",
       "                                                 Не оформлены официально        9.65  \n",
       "\n",
       "[73 rows x 2 columns]"
      ]
     },
     "execution_count": 387,
     "metadata": {},
     "output_type": "execute_result"
    }
   ],
   "source": [
    "groupby_df_reg = df_age_emp.groupby('region')['leg_emp'].value_counts().to_frame()\n",
    "groupby_df_reg['percentage'] = groupby_df_reg.groupby(['region'])['leg_emp'].apply(percent)\n",
    "groupby_df_reg"
   ]
  },
  {
   "cell_type": "markdown",
   "metadata": {},
   "source": [
    "## Различные графики"
   ]
  },
  {
   "cell_type": "code",
   "execution_count": 388,
   "metadata": {},
   "outputs": [],
   "source": [
    "# Создаем новый темп датафрейм df_graph для построения регресии величины заработной платы по количеству лет высшего\n",
    "# образования\n",
    "df_graph = pd.DataFrame()\n",
    "df_graph['wage'] = df['wage']\n",
    "df_graph['wage'] = df_graph[np.abs(df_graph.wage - df_graph.wage.mean()) <= (3 * df_graph.wage.std())]\n",
    "df_graph.dropna(inplace = True)\n",
    "df_graph['uni'] = df['uni_1']\n",
    "df_graph = df_graph[~df_graph['uni'].isin(['НЕТ ОТВЕТА', 'ЗАТРУДНЯЮСЬ ОТВЕТИТЬ'])]\n",
    "df_graph = df_graph[~df_graph['uni'].isnull()]"
   ]
  },
  {
   "cell_type": "code",
   "execution_count": 389,
   "metadata": {},
   "outputs": [],
   "source": [
    "# Построим линейную регрессию\n",
    "x_values = df_graph['uni'].to_numpy().reshape(-1, 1)\n",
    "y_values = df_graph['wage'].to_numpy().reshape(-1, 1)\n",
    "reg = LinearRegression().fit(x_values, y_values)\n",
    "k = reg.coef_[0][0]\n",
    "reg.intercept_[0]\n",
    "X = np.arange(0, 10, 0.1)\n",
    "Y = X * k + b"
   ]
  },
  {
   "cell_type": "code",
   "execution_count": 390,
   "metadata": {},
   "outputs": [
    {
     "name": "stdout",
     "output_type": "stream",
     "text": [
      "\u001b[32mЛинейная регрессия - wage=1010.94*uni_years+27653.88\u001b[0m\n"
     ]
    },
    {
     "data": {
      "image/png": "[encoded data removed]",
      "text/plain": [
       "<Figure size 1152x720 with 1 Axes>"
      ]
     },
     "metadata": {},
     "output_type": "display_data"
    }
   ],
   "source": [
    "plt.style.use('seaborn')\n",
    "fig = plt.figure(figsize = (16, 10))\n",
    "ax1 = fig.add_subplot(111)\n",
    "ax1.scatter(df_graph['uni'], df_graph['wage'])\n",
    "ax1.plot(X, Y,'red')\n",
    "ax1.set_title('Зависимость между высшим образованием и заработной платой', fontsize = 15)\n",
    "ax1.set_xlabel('Лет в высшем учебном заведении')\n",
    "ax1.set_ylabel('Величина заработной платы')\n",
    "color_print(f\"Линейная регрессия - wage={round(k, 2)}*uni_years+{round(b, 2)}\")\n",
    "# Как видим высшее образование почти не влияет на величину заработной платы (как было доказано статистическим тестом)"
   ]
  },
  {
   "cell_type": "code",
   "execution_count": 391,
   "metadata": {
    "scrolled": false
   },
   "outputs": [
    {
     "data": {
      "image/png": "[encoded data removed]",
      "text/plain": [
       "<Figure size 1152x720 with 1 Axes>"
      ]
     },
     "metadata": {},
     "output_type": "display_data"
    }
   ],
   "source": [
    "# В целом по выборке\n",
    "from scipy import stats\n",
    "plt.style.use('seaborn')\n",
    "fig = plt.figure(figsize = (16, 10))\n",
    "ax1 = fig.add_subplot(111)\n",
    "ax1.set_title('Распределение заработной платы', fontsize = 20)\n",
    "ax1.set_xlabel('Размер заработной платы')\n",
    "ax1.set_ylabel('Вероятность')\n",
    "params = stats.gamma.fit(df_wage_emp.wage, floc = 0)\n",
    "_, bins, _ = ax1.hist(df_wage_emp.wage, bins = 30, density = True)\n",
    "norm_fit_line = stats.gamma.pdf(bins, *params)\n",
    "ax1.plot(bins, norm_fit_line, 'red')\n",
    "ax1.legend(['Зафитанное гамма-распределение'], fontsize = 15)"
   ]
  }
 ],
 "metadata": {
  "kernelspec": {
   "display_name": "Python 3",
   "language": "python",
   "name": "python3"
  },
  "language_info": {
   "codemirror_mode": {
    "name": "ipython",
    "version": 3
   },
   "file_extension": ".py",
   "mimetype": "text/x-python",
   "name": "python",
   "nbconvert_exporter": "python",
   "pygments_lexer": "ipython3",
   "version": "3.8.5"
  }
 },
 "nbformat": 4,
 "nbformat_minor": 4
}
