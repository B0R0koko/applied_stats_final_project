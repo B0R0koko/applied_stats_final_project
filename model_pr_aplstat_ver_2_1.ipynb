{
  "nbformat": 4,
  "nbformat_minor": 0,
  "metadata": {
    "colab": {
      "name": "model_pr_aplstat_ver_2.ipynb",
      "provenance": [],
      "collapsed_sections": []
    },
    "kernelspec": {
      "name": "python3",
      "display_name": "Python 3"
    }
  },
  "cells": [
    {
      "cell_type": "markdown",
      "metadata": {
        "id": "PPEJZBc9nTR9"
      },
      "source": [
        "# Скачивание и подготовка данных"
      ]
    },
    {
      "cell_type": "code",
      "metadata": {
        "id": "sA4kWycuZTL4"
      },
      "source": [
        "!pip install pyreadstat\r\n",
        "!pip install catboost"
      ],
      "execution_count": null,
      "outputs": []
    },
    {
      "cell_type": "code",
      "metadata": {
        "id": "uG5QpgH3ZdIK"
      },
      "source": [
        "import pandas as pd\r\n",
        "import re\r\n",
        "import pyreadstat\r\n",
        "import numpy as np"
      ],
      "execution_count": null,
      "outputs": []
    },
    {
      "cell_type": "code",
      "metadata": {
        "id": "ptuL942iZv31"
      },
      "source": [
        "df, meta = pyreadstat.read_sav('data.sav', apply_value_formats = True)\r\n",
        "map_columns = meta.column_names_to_labels\r\n",
        "maybe_leak = [\r\n",
        "                 'xj10', 'xj10.2', 'xj15',\r\n",
        "                 'xj238', 'xj39', 'xj40',\r\n",
        "                 'xj57', 'xj89', 'xj13.2',\r\n",
        "]\r\n",
        "needed = [\r\n",
        "    'idind', 'psu', 'site', 'status', 'popul', \r\n",
        "    'x_int_y', 'x_born_m', 'x_educ',  'x_diplom', \r\n",
        "    'x_age', 'region', 'xh5', 'xh6', 'xh7.1',\r\n",
        "    'xh7.2', 'xh8a', 'xh8b', 'xi1', 'xi2',\r\n",
        "    'xi3', 'xi7', 'xi8', 'xi4', 'xi3.1',\r\n",
        "    'xj1', 'xj1.1.1', 'xj1.1.2', 'xj1.1.3',\r\n",
        "    'xj1.1.4', 'xj2cod08', 'xj4.1', 'xj5a',\r\n",
        "    'xj5b', 'xj6', 'xj6.0', 'xj6.1a', 'xj6.1b',\r\n",
        "    'xj6.2', 'xj7', 'xj7.1', 'x_adult', 'xj8',\r\n",
        "    'xj8.1', 'xj8.2', 'xj8.3', 'xj9', 'xj10', 'xj10.3',\r\n",
        "    'xj10.2', 'xj11', 'xj11.1', 'xj11.2', 'xj13',\r\n",
        "    'xj13.2', 'xj14', 'xj15', 'xj16', 'xj18.2', \r\n",
        "    'xj19', 'xj21a', 'xj21b', 'xj21.3', 'xj24', \r\n",
        "    'xj25', 'xj26', 'xj29', 'xj29c.1', 'xj29c.2',\r\n",
        "    'xj22', 'xj31', 'xj29.1', 'xj29.2.1', 'xj29.2.2',\r\n",
        "    'xj29.2.3', 'xj32', 'xj41.1', 'xj41.2', 'xj49', \r\n",
        "    'xj50', 'xj51', 'xj52', 'xj56', 'xj56.11c08',\r\n",
        "    'xj56.12c08', 'xj56.13c08', 'xj57', 'xj58',\r\n",
        "    'xj58.1', 'xj59', 'xj59.1', 'xj60', 'xj60.4a1',\r\n",
        "    'xj60.5a'  'xj61', 'xj62', 'xj63', 'xj64',\r\n",
        "    'xj65', 'xj66', 'xj66.1', 'xj69.9c', 'xj70.1', 'xj70', \r\n",
        "    'xj70.2', 'xk3.1', 'xj71', 'xj72.1a', 'xj72.1b', \r\n",
        "    'xj721dac08', 'xj72.1c', 'xj72.2a', 'xj72.2b', \r\n",
        "    'xj722dac08', 'xj72.2c', 'xj72.5a',\r\n",
        "    'xj72.5b', 'xj725dac08',  'xj72.5c', \r\n",
        "    'xj72.5e', 'xj72.5h', 'xj72.5j',\r\n",
        "    'xj72.18a', 'xj60.1',  'xj77',\r\n",
        "    'xj260', 'xj262', 'xj322', 'xj324', 'xj72.171',\r\n",
        "    'xj72.172', 'xj72.173', 'xj721635', 'xj721636',\r\n",
        "    'xj73', 'xj81', 'xj81.2', 'xj81.1', 'xj83.1', 'xl20'\r\n",
        "   ]"
      ],
      "execution_count": null,
      "outputs": []
    },
    {
      "cell_type": "code",
      "metadata": {
        "id": "ft28bNEbcZUp"
      },
      "source": [
        "map_numeric = {key: value for key, value in map_columns.items() if re.search(r'\\bсколько\\b', value.lower())}\r\n",
        "columns_numeric = [x for x in map_numeric.keys()] + [\r\n",
        "                                        'xj13.2', 'x_int_y', 'x_age', \r\n",
        "                                        'site', 'xh8b', 'popul',\r\n",
        "                                        'xh8a', 'idind', 'xh7.1'  \r\n",
        "] + ['xh6', 'xi8', 'xj69.9c', 'xj72.5e', 'xi7', 'xj5a']\r\n",
        "df_numeric = df[[x for x in columns_numeric if x in set(needed)]]"
      ],
      "execution_count": null,
      "outputs": []
    },
    {
      "cell_type": "code",
      "metadata": {
        "id": "SNjXHL-dcxos"
      },
      "source": [
        "map_categorical = {el : map_columns[el] for el in set(map_columns) - set(map_numeric)}\r\n",
        "columns_categorical = set([x for x in map_categorical.keys()]) - set(columns_numeric)\r\n",
        "df_categorical = df[[x for x in columns_categorical if x in set(needed)]]"
      ],
      "execution_count": null,
      "outputs": []
    },
    {
      "cell_type": "code",
      "metadata": {
        "id": "fZyOoMZsc9BM"
      },
      "source": [
        "df_ok_num = df_numeric[df_numeric['xj60'].notna()].reset_index(drop=True)\r\n",
        "df_ok_cat = df_categorical[df_numeric['xj60'].notna()].reset_index(drop=True)\r\n",
        "print(df_ok_num.shape)\r\n",
        "cat_features = df_ok_cat.columns\r\n",
        "\r\n",
        "for col in df_ok_num:\r\n",
        "  df_ok_num[col] = df_ok_num[col].astype(object)\r\n",
        "\r\n",
        "for col in df_ok_cat:\r\n",
        "  df_ok_cat[col] = df_ok_cat[col].astype(object)\r\n",
        "\r\n",
        "df_ok_num = df_ok_num.fillna(-1)\r\n",
        "df_ok_cat = df_ok_cat.fillna('Unknown')"
      ],
      "execution_count": null,
      "outputs": []
    },
    {
      "cell_type": "code",
      "metadata": {
        "id": "vr7BhliadCbI"
      },
      "source": [
        "def replace_non_numerical_answers_with_zero(column):\r\n",
        "  for i, cell in enumerate(column):\r\n",
        "    if isinstance(cell, str):\r\n",
        "      column[i] = 0\r\n",
        "  return column.astype(float)\r\n",
        "\r\n",
        "df_ok_num = df_ok_num.apply(replace_non_numerical_answers_with_zero, axis=0)"
      ],
      "execution_count": null,
      "outputs": []
    },
    {
      "cell_type": "code",
      "metadata": {
        "id": "oxErLEX4dRwD"
      },
      "source": [
        "def make_str(col):\r\n",
        "  for i in range(len(col)):\r\n",
        "    col[i] = str(col[i])\r\n",
        "  return col\r\n",
        "\r\n",
        "df_ok_cat[['xj62', 'xj64', 'xj63', 'xk3.1']] = df_ok_cat[['xj62', 'xj64', 'xj63', 'xk3.1']].apply(make_str, axis=1)"
      ],
      "execution_count": null,
      "outputs": []
    },
    {
      "cell_type": "code",
      "metadata": {
        "id": "kE9dRiurdaLB"
      },
      "source": [
        "data = pd.concat([df_ok_num, df_ok_cat], axis=1)"
      ],
      "execution_count": null,
      "outputs": []
    },
    {
      "cell_type": "markdown",
      "metadata": {
        "id": "cdlUq5L_nkIE"
      },
      "source": [
        "# Обучение модели"
      ]
    },
    {
      "cell_type": "code",
      "metadata": {
        "id": "seYLetYideka"
      },
      "source": [
        "target = data['xj60']\r\n",
        "cols = ['xj13.2', 'xj15', 'xj10.2', 'xj57', 'xj10', 'xj60']\r\n",
        "features = data.drop(cols, axis=1)"
      ],
      "execution_count": null,
      "outputs": []
    },
    {
      "cell_type": "code",
      "metadata": {
        "id": "c91u3-akdhsR"
      },
      "source": [
        "from sklearn.model_selection import train_test_split\r\n",
        "from catboost import CatBoostRegressor, Pool\r\n",
        "\r\n",
        "features_train, features_test, target_train, target_test = train_test_split(features, target, test_size=0.4, random_state=12345)\r\n",
        "features_valid, features_test, target_valid, target_test = train_test_split(\r\n",
        "    features_test, target_test, test_size=0.5\r\n",
        ")\r\n",
        "train_pool = Pool(features_train, target_train, cat_features=cat_features)\r\n",
        "val_pool = Pool(features_valid, target_valid, cat_features=cat_features)\r\n",
        "test_pool = Pool(features_test, target_test, cat_features=cat_features)"
      ],
      "execution_count": null,
      "outputs": []
    },
    {
      "cell_type": "code",
      "metadata": {
        "colab": {
          "base_uri": "https://localhost:8080/"
        },
        "id": "eTTbMi6lg0is",
        "outputId": "cf594e93-6172-4c8a-aeae-4a86ca93eadf"
      },
      "source": [
        "model = CatBoostRegressor(verbose=500, depth=2, iterations=5000, learning_rate=4*0.068786)#, use_best_model=False)# boosting_type='Ordered')\r\n",
        "model.fit(train_pool, eval_set=val_pool)"
      ],
      "execution_count": null,
      "outputs": [
        {
          "output_type": "stream",
          "text": [
            "0:\tlearn: 37969.2145248\ttest: 21303.2717287\tbest: 21303.2717287 (0)\ttotal: 43.1ms\tremaining: 3m 35s\n",
            "500:\tlearn: 15626.0939375\ttest: 17159.5140994\tbest: 17138.0675859 (335)\ttotal: 15.4s\tremaining: 2m 18s\n",
            "1000:\tlearn: 13185.8141283\ttest: 16976.1775166\tbest: 16851.0060628 (761)\ttotal: 30.9s\tremaining: 2m 3s\n",
            "1500:\tlearn: 12256.9298750\ttest: 16907.7004933\tbest: 16851.0060628 (761)\ttotal: 46.4s\tremaining: 1m 48s\n",
            "2000:\tlearn: 11570.8604807\ttest: 16897.5314774\tbest: 16848.3525532 (1557)\ttotal: 1m 1s\tremaining: 1m 32s\n",
            "2500:\tlearn: 11022.1572626\ttest: 16925.8607155\tbest: 16848.3525532 (1557)\ttotal: 1m 17s\tremaining: 1m 17s\n",
            "3000:\tlearn: 10581.9522820\ttest: 16933.0554995\tbest: 16848.3525532 (1557)\ttotal: 1m 32s\tremaining: 1m 1s\n",
            "3500:\tlearn: 10164.7481724\ttest: 16912.3967579\tbest: 16848.3525532 (1557)\ttotal: 1m 48s\tremaining: 46.3s\n",
            "4000:\tlearn: 9852.3606211\ttest: 16938.6406894\tbest: 16848.3525532 (1557)\ttotal: 2m 3s\tremaining: 30.8s\n",
            "4500:\tlearn: 9513.0276103\ttest: 16972.1948762\tbest: 16848.3525532 (1557)\ttotal: 2m 18s\tremaining: 15.4s\n",
            "4999:\tlearn: 9259.1236172\ttest: 17011.8076886\tbest: 16848.3525532 (1557)\ttotal: 2m 34s\tremaining: 0us\n",
            "\n",
            "bestTest = 16848.35255\n",
            "bestIteration = 1557\n",
            "\n",
            "Shrink model to first 1558 iterations.\n"
          ],
          "name": "stdout"
        },
        {
          "output_type": "execute_result",
          "data": {
            "text/plain": [
              "<catboost.core.CatBoostRegressor at 0x7f1488ac0fd0>"
            ]
          },
          "metadata": {
            "tags": []
          },
          "execution_count": 81
        }
      ]
    },
    {
      "cell_type": "markdown",
      "metadata": {
        "id": "Q_8gPrCwnqbV"
      },
      "source": [
        "# Интерпретация результатов"
      ]
    },
    {
      "cell_type": "code",
      "metadata": {
        "colab": {
          "base_uri": "https://localhost:8080/"
        },
        "id": "fiYqcktMg2tM",
        "outputId": "ab356a3f-2a95-4ecb-b712-e783fd145ec5"
      },
      "source": [
        "from sklearn.metrics import mean_squared_error as mse\r\n",
        "from sklearn.metrics import r2_score\r\n",
        "print(\r\n",
        "    mse(train_pool.get_label(), model.predict(train_pool))**0.5\r\n",
        ")\r\n",
        "\r\n",
        "print(mse(data['xj60'], [data['xj60'].mean() for x in data['xj60']])**0.5)\r\n",
        "print(r2_score(train_pool.get_label(), model.predict(train_pool)))\r\n",
        "print(r2_score(data['xj60'], [data['xj60'].mean() for x in data['xj60']]))"
      ],
      "execution_count": null,
      "outputs": [
        {
          "output_type": "stream",
          "text": [
            "13384.582230086866\n",
            "40617.964993263944\n",
            "0.8794131183174823\n",
            "0.0\n"
          ],
          "name": "stdout"
        }
      ]
    },
    {
      "cell_type": "code",
      "metadata": {
        "colab": {
          "base_uri": "https://localhost:8080/",
          "height": 363
        },
        "id": "nyID418srBoW",
        "outputId": "6ce4ea10-eea2-4f14-e3f0-fa0b7f2db593"
      },
      "source": [
        "\r\n",
        "feat_imp =  model.get_feature_importance(prettified=True)\r\n",
        "\r\n",
        "feat_imp.head(10)"
      ],
      "execution_count": null,
      "outputs": [
        {
          "output_type": "execute_result",
          "data": {
            "text/html": [
              "<div>\n",
              "<style scoped>\n",
              "    .dataframe tbody tr th:only-of-type {\n",
              "        vertical-align: middle;\n",
              "    }\n",
              "\n",
              "    .dataframe tbody tr th {\n",
              "        vertical-align: top;\n",
              "    }\n",
              "\n",
              "    .dataframe thead th {\n",
              "        text-align: right;\n",
              "    }\n",
              "</style>\n",
              "<table border=\"1\" class=\"dataframe\">\n",
              "  <thead>\n",
              "    <tr style=\"text-align: right;\">\n",
              "      <th></th>\n",
              "      <th>Feature Id</th>\n",
              "      <th>Importances</th>\n",
              "    </tr>\n",
              "  </thead>\n",
              "  <tbody>\n",
              "    <tr>\n",
              "      <th>0</th>\n",
              "      <td>xj6.0</td>\n",
              "      <td>34.327782</td>\n",
              "    </tr>\n",
              "    <tr>\n",
              "      <th>1</th>\n",
              "      <td>xi4</td>\n",
              "      <td>10.117476</td>\n",
              "    </tr>\n",
              "    <tr>\n",
              "      <th>2</th>\n",
              "      <td>xj72.173</td>\n",
              "      <td>6.847765</td>\n",
              "    </tr>\n",
              "    <tr>\n",
              "      <th>3</th>\n",
              "      <td>xj31</td>\n",
              "      <td>6.494874</td>\n",
              "    </tr>\n",
              "    <tr>\n",
              "      <th>4</th>\n",
              "      <td>psu</td>\n",
              "      <td>5.513558</td>\n",
              "    </tr>\n",
              "    <tr>\n",
              "      <th>5</th>\n",
              "      <td>xj13</td>\n",
              "      <td>5.342631</td>\n",
              "    </tr>\n",
              "    <tr>\n",
              "      <th>6</th>\n",
              "      <td>xj6</td>\n",
              "      <td>3.927449</td>\n",
              "    </tr>\n",
              "    <tr>\n",
              "      <th>7</th>\n",
              "      <td>xj21b</td>\n",
              "      <td>3.745239</td>\n",
              "    </tr>\n",
              "    <tr>\n",
              "      <th>8</th>\n",
              "      <td>xj1.1.1</td>\n",
              "      <td>2.465840</td>\n",
              "    </tr>\n",
              "    <tr>\n",
              "      <th>9</th>\n",
              "      <td>region</td>\n",
              "      <td>1.355935</td>\n",
              "    </tr>\n",
              "  </tbody>\n",
              "</table>\n",
              "</div>"
            ],
            "text/plain": [
              "  Feature Id  Importances\n",
              "0      xj6.0    34.327782\n",
              "1        xi4    10.117476\n",
              "2   xj72.173     6.847765\n",
              "3       xj31     6.494874\n",
              "4        psu     5.513558\n",
              "5       xj13     5.342631\n",
              "6        xj6     3.927449\n",
              "7      xj21b     3.745239\n",
              "8    xj1.1.1     2.465840\n",
              "9     region     1.355935"
            ]
          },
          "metadata": {
            "tags": []
          },
          "execution_count": 83
        }
      ]
    },
    {
      "cell_type": "code",
      "metadata": {
        "colab": {
          "base_uri": "https://localhost:8080/"
        },
        "id": "9GKi4_8OsOqC",
        "outputId": "3f56276f-602d-4aa2-843a-e22a6eeb558d"
      },
      "source": [
        "for x in  [ 'xj6.0',\r\n",
        " \t'xi4',\r\n",
        " \t'xj72.173',\r\n",
        " \t'xj31',\r\n",
        " \t'psu',\r\n",
        " \t'xj13' ,\r\n",
        " \t'xj6' ,\t\r\n",
        " \t'xj21b' ,\t\r\n",
        " \t'xj1.1.1' \t,\r\n",
        " \t'region',]:\r\n",
        "  print(x, map_columns[x]) "
      ],
      "execution_count": null,
      "outputs": [
        {
          "output_type": "stream",
          "text": [
            "xj6.0 Сколько у Вас подчиненных? Пожалуйста, посчитайте всех Ваших подчиненных, а не только тех, кто находится в Вашем непосредственном подчинении\n",
            "xi4 Кем Вы себя считаете по национальности?\n",
            "xj72.173 А сколько из них моложе 18 лет?\n",
            "xj31 Насколько Вас беспокоит то, что Вы можете потерять работу?\n",
            "psu Номер региона (первичная единица отбора)\n",
            "xj13 Сколько человек работает на Вашем предприятии? Если не знаете точно, скажите примерно\n",
            "xj6 У Вас есть подчиненные на этой работе?\n",
            "xj21b Сколько всего календарных дней продолжался или продолжается этот отпуск?\n",
            "xj1.1.1 Насколько Вы удовлетворены или не удовлетворены Вашей работой в целом?\n",
            "region Регион\n"
          ],
          "name": "stdout"
        }
      ]
    }
  ]
}